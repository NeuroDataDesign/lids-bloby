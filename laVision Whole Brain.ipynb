{
 "cells": [
  {
   "cell_type": "markdown",
   "metadata": {},
   "source": [
    "# laVision Whole Brain Results"
   ]
  },
  {
   "cell_type": "markdown",
   "metadata": {},
   "source": [
    "## Download the whole volumes"
   ]
  },
  {
   "cell_type": "code",
   "execution_count": 4,
   "metadata": {},
   "outputs": [
    {
     "name": "stdout",
     "output_type": "stream",
     "text": [
      "Successfully saved image to data/laVision/insula_atenolol.tiff\n"
     ]
    }
   ],
   "source": [
    "%reload_ext autoreload\n",
    "%autoreload 2\n",
    "\n",
    "from src.BossDataFetcher import fetch_data_from_boss\n",
    "\n",
    "boss_params = {\n",
    "    'config': 'intern.cfg',\n",
    "    'collection': 'ailey-dev',\n",
    "    'experiment': 'Insula_Control-2_171206',\n",
    "    'channel': 'Ch0',\n",
    "    'dtype': 'uint16',\n",
    "    'z_range': [0, 1280],\n",
    "    'y_range': [0, 2560],\n",
    "    'x_range': [0, 2160],\n",
    "    'resolution': 0,\n",
    "    'filename': input_tif_path\n",
    "}\n",
    "\n",
    "input_tif_path = 'data/laVision/insula_control.tiff'\n",
    "fetch_data_from_boss(boss_params)\n",
    "\n",
    "input_tif_path = 'data/laVision/insula_atenolol.tiff'\n",
    "boss_params['filename'] = input_tif_path\n",
    "boss_params['experiment'] = 'Insula_Atenolol-1_171204_new'\n",
    "fetch_data_from_boss(boss_params)"
   ]
  },
  {
   "cell_type": "markdown",
   "metadata": {},
   "source": [
    "## Predict cells on Volume 1"
   ]
  },
  {
   "cell_type": "code",
   "execution_count": 5,
   "metadata": {},
   "outputs": [],
   "source": [
    "from src.BlobDetector import BlobDetector\n",
    "from src import util\n",
    "\n",
    "exp_name = 'insula_control'\n",
    "\n",
    "# output_csv_path = 'data/laVision/{}'.format(exp_name)\n",
    "# detector = BlobDetector(input_tif_path)\n",
    "# centroids = detector.get_blob_centroids()\n",
    "# util.write_list_to_csv(centroids, output_csv_path)"
   ]
  },
  {
   "cell_type": "code",
   "execution_count": null,
   "metadata": {},
   "outputs": [],
   "source": []
  }
 ],
 "metadata": {
  "kernelspec": {
   "display_name": "Python 3",
   "language": "python",
   "name": "python3"
  },
  "language_info": {
   "codemirror_mode": {
    "name": "ipython",
    "version": 3
   },
   "file_extension": ".py",
   "mimetype": "text/x-python",
   "name": "python",
   "nbconvert_exporter": "python",
   "pygments_lexer": "ipython3",
   "version": "3.6.4"
  }
 },
 "nbformat": 4,
 "nbformat_minor": 2
}
