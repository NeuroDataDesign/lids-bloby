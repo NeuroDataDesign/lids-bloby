{
 "cells": [
  {
   "cell_type": "code",
   "execution_count": 2,
   "metadata": {
    "collapsed": true
   },
   "outputs": [],
   "source": [
    "import csv\n",
    "import tifffile as tiff\n",
    "import numpy as np\n",
    "import os\n",
    "from scipy.interpolate import UnivariateSpline\n",
    "import numpy as np"
   ]
  },
  {
   "cell_type": "code",
   "execution_count": 12,
   "metadata": {
    "collapsed": true
   },
   "outputs": [],
   "source": [
    "def get_list_from_csv(csv_file_path, parse_float=True, skip_header=False):\n",
    "    \"\"\"Given a CSV file, converts it to list\"\"\"\n",
    "    def _parse_float_array(arr):\n",
    "        return [float(item) for item in arr]\n",
    "\n",
    "    with open(csv_file_path, 'r') as f:\n",
    "        reader = csv.reader(f)\n",
    "        csv_list = list(reader)\n",
    "\n",
    "    parsed_list = csv_list\n",
    "\n",
    "    if parse_float:\n",
    "        parsed_list = [_parse_float_array(item) for item in csv_list]\n",
    "\n",
    "    return parsed_list[1:] if skip_header else parsed_list\n",
    "\n",
    "def plot_csv_on_rgb_tif(centroids, reference_img_path, tif_output_path, color=[10000, 0, 0], dtype=np.uint16):\n",
    "    \"\"\"Given a CSV file, plots the co-ordinates in the CSV on a RGB TIF stack\"\"\"\n",
    "    def _parse_int_array(arr):\n",
    "        return [int(item) for item in arr]\n",
    "\n",
    "    def _draw_square(image, coord, size=2):\n",
    "        coord = _parse_int_array(coord)\n",
    "        shape_z, shape_y, shape_x, _ = image.shape\n",
    "        z_range = range(max(0, coord[0]-size), min(shape_z, coord[0]+size))\n",
    "        y_range = range(max(0, coord[1]-size), min(shape_y, coord[1]+size))\n",
    "        x_range = range(max(0, coord[2]-size), min(shape_x, coord[2]+size))\n",
    "\n",
    "        for z in z_range:\n",
    "            for y in y_range:\n",
    "                for x in x_range:\n",
    "                    image[z, y, x, :] = color\n",
    "\n",
    "        return image\n",
    "\n",
    "    img = tiff.imread(reference_img_path)\n",
    "\n",
    "\n",
    "    if img.ndim == 3:\n",
    "        shape_z, shape_y, shape_x = img.shape\n",
    "        new_img = np.zeros((shape_z, shape_y, shape_x, 3))\n",
    "        new_img[:, :, :, 0] = img\n",
    "        new_img[:, :, :, 1] = img\n",
    "        new_img[:, :, :, 2] = img\n",
    "    elif img.ndim == 4:\n",
    "        shape_z, shape_y, shape_x, _ = img.shape\n",
    "        new_img = img\n",
    "  \n",
    "    for i, c in enumerate(centroids):\n",
    "        new_img = _draw_square(new_img, c)\n",
    "\n",
    "    tiff.imsave(tif_output_path, new_img.astype(dtype))"
   ]
  },
  {
   "cell_type": "code",
   "execution_count": 17,
   "metadata": {},
   "outputs": [],
   "source": [
    "img = tiff.imread('lids/lids_smaller_stack.tif')\n",
    "labels = get_list_from_csv('lids/labels.csv')\n",
    "predictions = get_list_from_csv('lids/predictions.csv')\n",
    "plot_csv_on_rgb_tif(labels, 'lids/lids_smaller_stack.tif', 'lids/marked_final.tif', color=[0, img.max(), 0])\n",
    "plot_csv_on_rgb_tif(predictions, 'lids/marked_final.tif', 'lids/marked_final.tif', color=[img.max(), 0, 0])"
   ]
  },
  {
   "cell_type": "code",
   "execution_count": null,
   "metadata": {
    "collapsed": true
   },
   "outputs": [],
   "source": []
  }
 ],
 "metadata": {
  "kernelspec": {
   "display_name": "Python [default]",
   "language": "python",
   "name": "python3"
  },
  "language_info": {
   "codemirror_mode": {
    "name": "ipython",
    "version": 3
   },
   "file_extension": ".py",
   "mimetype": "text/x-python",
   "name": "python",
   "nbconvert_exporter": "python",
   "pygments_lexer": "ipython3",
   "version": "3.6.2"
  }
 },
 "nbformat": 4,
 "nbformat_minor": 2
}
