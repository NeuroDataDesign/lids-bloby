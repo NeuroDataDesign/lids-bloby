{
 "cells": [
  {
   "cell_type": "code",
   "execution_count": 5,
   "metadata": {},
   "outputs": [
    {
     "name": "stdout",
     "output_type": "stream",
     "text": [
      "Initialization 0\n",
      "  Iteration 0\t time lapse 5.52198s\t ll change inf\n",
      "Initialization converged: True\t time lapse 10.72768s\t ll -7.74480\n",
      "[(0.0, 0.0), (25.065833757913104, 120.16828013316267), (23.610873451165233, 124.28823549313819), (36.304014345785326, 190.5557396940904), (8.235612119413666, 0.0), (0.0, 0.0), (29.49248976346741, 157.88118573046722), (2.8284271247461903, 0.0), (17.760200789896594, 80.32481615511246), (34.976518266824414, 181.20656932356488), (5.311022081138742, 0.0), (9.285583798194326, 33.89912832973396), (6.425165116841933, 29.473177774395104), (10.235627427229476, 54.521529509399414), (31.44901931164833, 170.51440379207088), (3.23606797749979, 0.0), (17.065757026789424, 91.37100625142331), (4.433981404829606, 18.439088914585774), (2.3094010767585034, 0.0), (11.74159356044887, 65.25020648096738), (3.582070095417669, 0.0), (21.763769916180028, 100.06785095153363)]\n"
     ]
    },
    {
     "name": "stderr",
     "output_type": "stream",
     "text": [
      "/Users/srivathsa/anaconda/envs/py36/lib/python3.6/site-packages/skimage/transform/_warps.py:105: UserWarning: The default mode, 'constant', will be changed to 'reflect' in skimage 0.15.\n",
      "  warn(\"The default mode, 'constant', will be changed to 'reflect' in \"\n",
      "/Users/srivathsa/anaconda/envs/py36/lib/python3.6/site-packages/skimage/transform/_warps.py:110: UserWarning: Anti-aliasing will be enabled by default in skimage 0.15 to avoid aliasing artifacts when down-sampling images.\n",
      "  warn(\"Anti-aliasing will be enabled by default in skimage 0.15 to \"\n",
      "/Users/srivathsa/anaconda/envs/py36/lib/python3.6/site-packages/skimage/transform/_warps.py:128: RuntimeWarning: divide by zero encountered in true_divide\n",
      "  np.asarray(output_shape, dtype=float))\n",
      "/Users/srivathsa/anaconda/envs/py36/lib/python3.6/site-packages/skimage/measure/_regionprops.py:251: UserWarning: regionprops and image moments (including moments, normalized moments, central moments, and inertia tensor) of 2D images will change from xy coordinates to rc coordinates in version 0.16.\n",
      "See http://scikit-image.org/docs/0.14.x/release_notes_and_installation.html#deprecations for details on how to avoid this message.\n",
      "  warn(XY_TO_RC_DEPRECATION_MESSAGE)\n",
      "/Users/srivathsa/anaconda/envs/py36/lib/python3.6/site-packages/skimage/measure/_regionprops.py:261: UserWarning: regionprops and image moments (including moments, normalized moments, central moments, and inertia tensor) of 2D images will change from xy coordinates to rc coordinates in version 0.16.\n",
      "See http://scikit-image.org/docs/0.14.x/release_notes_and_installation.html#deprecations for details on how to avoid this message.\n",
      "  warn(XY_TO_RC_DEPRECATION_MESSAGE)\n"
     ]
    }
   ],
   "source": [
    "%reload_ext autoreload\n",
    "%autoreload 2\n",
    "import sys\n",
    "from tifffile import imread, imsave\n",
    "import matplotlib.pyplot as plt\n",
    "from IPython.core.pylabtools import figsize\n",
    "figsize(7, 7)\n",
    "import numpy as np\n",
    "from skimage import measure, transform\n",
    "\n",
    "from BlobDetector import BlobDetector\n",
    "\n",
    "def convert_scales(coords, scale):\n",
    "    return [ (c*scale) for c in coords]\n",
    "\n",
    "def show_slice(img, slice=50):\n",
    "    plt.imshow(img[slice, :, :], vmin=0, vmax=255)\n",
    "    plt.show()\n",
    "\n",
    "exp_name = 'cell_detection_0'\n",
    "plt.set_cmap('gray')\n",
    "component_dict = {\n",
    "    'cell_detection_0': 4,\n",
    "    'cell_detection_1': 4,\n",
    "    'cell_detection_2': 4,\n",
    "    'cell_detection_3': 4,\n",
    "    'cell_detection_4': 8,\n",
    "    'cell_detection_5': 5,\n",
    "    'cell_detection_6': 5,\n",
    "    'cell_detection_7': 7,\n",
    "    'cell_detection_8': 5,\n",
    "    'cell_detection_9': 5\n",
    "}\n",
    "\n",
    "input_tif_path = '../data/s3617/tifs/{}.tiff'.format(exp_name)\n",
    "img = imread(input_tif_path)\n",
    "\n",
    "detector = BlobDetector(input_tif_path, n_components=component_dict[exp_name])\n",
    "centroids = detector.get_blob_centroids()\n",
    "\n",
    "or_maj_axis_lengths = [x.major_axis_length for x in detector.region_props]\n",
    "ph_maj_axis_lengths = [x for x in detector.physical_lengths]\n",
    "\n",
    "print([x for x in zip(or_maj_axis_lengths, ph_maj_axis_lengths)])"
   ]
  },
  {
   "cell_type": "code",
   "execution_count": null,
   "metadata": {
    "collapsed": true
   },
   "outputs": [],
   "source": []
  }
 ],
 "metadata": {
  "kernelspec": {
   "display_name": "Python [conda env:py36]",
   "language": "python",
   "name": "conda-env-py36-py"
  },
  "language_info": {
   "codemirror_mode": {
    "name": "ipython",
    "version": 3
   },
   "file_extension": ".py",
   "mimetype": "text/x-python",
   "name": "python",
   "nbconvert_exporter": "python",
   "pygments_lexer": "ipython3",
   "version": "3.6.2"
  }
 },
 "nbformat": 4,
 "nbformat_minor": 2
}
