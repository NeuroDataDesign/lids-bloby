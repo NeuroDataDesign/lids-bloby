{
 "cells": [
  {
   "cell_type": "code",
   "execution_count": null,
   "metadata": {},
   "outputs": [],
   "source": [
    "%reload_ext autoreload\n",
    "%autoreload 2\n",
    "\n",
    "from tifffile import imread, imsave\n",
    "import util\n",
    "import numpy as np\n",
    "\n",
    "#sv1 - x1, y1\n",
    "#sv2 - x2, y1\n",
    "#sv3 - x1, y2\n",
    "#sv4 - x2, y2\n",
    "\n",
    "sv1 = util.get_list_from_csv('../data/laVision/lavision_control_1.csv')\n",
    "sv2 = util.get_list_from_csv('../data/laVision/lavision_control_2.csv')\n",
    "sv3 = util.get_list_from_csv('../data/laVision/lavision_control_3.csv')\n",
    "sv4 = util.get_list_from_csv('../data/laVision/lavision_control_4.csv')\n",
    "\n",
    "z_shape, y_shape, x_shape = 1319, 2560, 2160\n",
    "\n",
    "sv2 = [[p[0], p[1], (p[2] + (x_shape/2))] for p in sv2]\n",
    "sv3 = [[p[0], (p[1] + (y_shape/2)), p[2]] for p in sv3]\n",
    "sv4 = [[p[0], (p[1] + (y_shape/2)), (p[2] + (x_shape/2))] for p in sv4]\n",
    "\n",
    "centroids = sv1 + sv2 + sv3 + sv4\n",
    "\n",
    "tif_output_path = '../data/laVision/control_marked.tiff'\n",
    "\n",
    "img = np.ndarray((z_shape, y_shape, x_shape))\n",
    "util.plot_csv_on_tif(centroids=centroids, reference_img_path=None, tif_output_path=tif_output_path, img_shape=img.shape)"
   ]
  },
  {
   "cell_type": "code",
   "execution_count": null,
   "metadata": {
    "collapsed": true
   },
   "outputs": [],
   "source": []
  }
 ],
 "metadata": {
  "kernelspec": {
   "display_name": "Python [conda env:py36]",
   "language": "python",
   "name": "conda-env-py36-py"
  },
  "language_info": {
   "codemirror_mode": {
    "name": "ipython",
    "version": 3
   },
   "file_extension": ".py",
   "mimetype": "text/x-python",
   "name": "python",
   "nbconvert_exporter": "python",
   "pygments_lexer": "ipython3",
   "version": "3.6.2"
  }
 },
 "nbformat": 4,
 "nbformat_minor": 2
}
