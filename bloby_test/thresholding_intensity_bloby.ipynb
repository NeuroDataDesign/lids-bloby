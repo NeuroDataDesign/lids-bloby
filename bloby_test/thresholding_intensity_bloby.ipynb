{
 "cells": [
  {
   "cell_type": "markdown",
   "metadata": {},
   "source": [
    "## Bloby's performance after thresholding intensity between noise and signal\n"
   ]
  },
  {
   "cell_type": "code",
   "execution_count": 21,
   "metadata": {
    "collapsed": true
   },
   "outputs": [],
   "source": [
    "%matplotlib inline\n",
    "import matplotlib.pyplot as plt"
   ]
  },
  {
   "cell_type": "code",
   "execution_count": 10,
   "metadata": {},
   "outputs": [
    {
     "name": "stdout",
     "output_type": "stream",
     "text": [
      "Precision: 0.094\n",
      "Recall: 0.094\n",
      "<bound method BlobMetrics.precision of <bloby.BlobMetrics.BlobMetrics object at 0x11299b080>>\n"
     ]
    },
    {
     "data": {
      "image/png": "[encoded data removed]",
      "text/plain": [
       "<Figure size 432x288 with 1 Axes>"
      ]
     },
     "metadata": {},
     "output_type": "display_data"
    },
    {
     "data": {
      "image/png": "[encoded data removed]",
      "text/plain": [
       "<Figure size 432x288 with 1 Axes>"
      ]
     },
     "metadata": {},
     "output_type": "display_data"
    }
   ],
   "source": [
    "from bloby.BlobDetector import BlobDetector\n",
    "from bloby.BlobMetrics import BlobMetrics\n",
    "from bloby import util\n",
    "\n",
    "input_tif_path = 'sample.tif' \n",
    "output_csv_path = 'sample_out.csv'\n",
    "detector = BlobDetector(input_tif_path, n_components = 3, threshold = 5000)\n",
    "centroids = detector.get_blob_centroids()\n",
    "util.write_list_to_csv(centroids, output_csv_path)\n",
    "\n",
    "ground_truth_path = 'sample.csv'\n",
    "ground_truth = util.get_list_from_csv(ground_truth_path)\n",
    "metrics = BlobMetrics(ground_truth, centroids)\n",
    "print('Precision: {}\\nRecall: {}'.format(metrics.precision(), metrics.recall()))\n",
    "\n",
    "metrics.plot_predictions_per_ground_truth()\n",
    "metrics.plot_ground_truths_per_prediction()"
   ]
  },
  {
   "cell_type": "code",
   "execution_count": 20,
   "metadata": {},
   "outputs": [
    {
     "name": "stdout",
     "output_type": "stream",
     "text": [
      "threshold value= 5000\n",
      "Precision: 0.094\n",
      "Recall: 0.094\n",
      "threshold value= 5500\n",
      "Precision: 0.097\n",
      "Recall: 0.097\n",
      "threshold value= 6000\n",
      "Precision: 0.103\n",
      "Recall: 0.103\n",
      "threshold value= 6500\n",
      "Precision: 0.108\n",
      "Recall: 0.109\n",
      "threshold value= 7000\n",
      "Precision: 0.116\n",
      "Recall: 0.116\n",
      "threshold value= 7500\n",
      "Precision: 0.124\n",
      "Recall: 0.124\n",
      "threshold value= 8000\n",
      "Precision: 0.132\n",
      "Recall: 0.132\n",
      "threshold value= 8500\n",
      "Precision: 0.141\n",
      "Recall: 0.141\n",
      "threshold value= 9000\n",
      "Precision: 0.152\n",
      "Recall: 0.153\n",
      "threshold value= 9500\n",
      "Precision: 0.164\n",
      "Recall: 0.165\n",
      "threshold value= 10000\n",
      "Precision: 0.177\n",
      "Recall: 0.178\n",
      "threshold value= 10500\n",
      "Precision: 0.192\n",
      "Recall: 0.194\n",
      "threshold value= 11000\n",
      "Precision: 0.206\n",
      "Recall: 0.208\n",
      "threshold value= 11500\n",
      "Precision: 0.226\n",
      "Recall: 0.228\n",
      "threshold value= 12000\n",
      "Precision: 0.24\n",
      "Recall: 0.243\n",
      "threshold value= 12500\n",
      "Precision: 0.254\n",
      "Recall: 0.259\n",
      "threshold value= 13000\n",
      "Precision: 0.277\n",
      "Recall: 0.285\n",
      "threshold value= 13500\n",
      "Precision: 0.293\n",
      "Recall: 0.305\n",
      "threshold value= 14000\n",
      "Precision: 0.311\n",
      "Recall: 0.329\n",
      "threshold value= 14500\n",
      "Precision: 0.331\n",
      "Recall: 0.356\n",
      "threshold value= 15000\n",
      "Precision: 0.35\n",
      "Recall: 0.383\n",
      "threshold value= 15500\n",
      "Precision: 0.373\n",
      "Recall: 0.419\n",
      "threshold value= 16000\n",
      "Precision: 0.389\n",
      "Recall: 0.45\n",
      "threshold value= 16500\n",
      "Precision: 0.404\n",
      "Recall: 0.483\n",
      "threshold value= 17000\n",
      "Precision: 0.414\n",
      "Recall: 0.516\n",
      "threshold value= 17500\n",
      "Precision: 0.428\n",
      "Recall: 0.558\n",
      "threshold value= 18000\n",
      "Precision: 0.453\n",
      "Recall: 0.632\n",
      "threshold value= 18500\n",
      "Precision: 0.47\n",
      "Recall: 0.703\n",
      "threshold value= 19000\n",
      "Precision: 0.478\n",
      "Recall: 0.781\n",
      "threshold value= 19500\n",
      "Precision: 0.49\n",
      "Recall: 0.863\n",
      "threshold value= 20000\n",
      "Precision: 0.52\n",
      "Recall: 0.955\n",
      "threshold value= 20500\n",
      "Precision: 0.549\n",
      "Recall: 0.819\n",
      "threshold value= 21000\n",
      "Precision: 0.557\n",
      "Recall: 0.741\n",
      "threshold value= 21500\n",
      "Precision: 0.567\n",
      "Recall: 0.643\n",
      "threshold value= 22000\n",
      "Precision: 0.605\n",
      "Recall: 0.556\n",
      "threshold value= 22500\n",
      "Precision: 0.591\n",
      "Recall: 0.476\n",
      "threshold value= 23000\n",
      "Precision: 0.613\n",
      "Recall: 0.436\n",
      "threshold value= 23500\n",
      "Precision: 0.613\n",
      "Recall: 0.39\n",
      "threshold value= 24000\n",
      "Precision: 0.641\n",
      "Recall: 0.368\n",
      "threshold value= 24500\n",
      "Precision: 0.673\n",
      "Recall: 0.333\n",
      "Threshold list: [5000, 5500, 6000, 6500, 7000, 7500, 8000, 8500, 9000, 9500, 10000, 10500, 11000, 11500, 12000, 12500, 13000, 13500, 14000, 14500, 15000, 15500, 16000, 16500, 17000, 17500, 18000, 18500, 19000, 19500, 20000, 20500, 21000, 21500, 22000, 22500, 23000, 23500, 24000, 24500] \n",
      "Precision list: [0.094, 0.097, 0.103, 0.108, 0.116, 0.124, 0.132, 0.141, 0.152, 0.164, 0.177, 0.192, 0.206, 0.226, 0.24, 0.254, 0.277, 0.293, 0.311, 0.331, 0.35, 0.373, 0.389, 0.404, 0.414, 0.428, 0.453, 0.47, 0.478, 0.49, 0.52, 0.549, 0.557, 0.567, 0.605, 0.591, 0.613, 0.613, 0.641, 0.673] \n",
      "Recall list: [0.094, 0.097, 0.103, 0.109, 0.116, 0.124, 0.132, 0.141, 0.153, 0.165, 0.178, 0.194, 0.208, 0.228, 0.243, 0.259, 0.285, 0.305, 0.329, 0.356, 0.383, 0.419, 0.45, 0.483, 0.516, 0.558, 0.632, 0.703, 0.781, 0.863, 0.955, 0.819, 0.741, 0.643, 0.556, 0.476, 0.436, 0.39, 0.368, 0.333] \n",
      "F1 list: [0.094, 0.097, 0.103, 0.10849769585253456, 0.116, 0.124, 0.132, 0.141, 0.1524983606557377, 0.1644984802431611, 0.1774985915492958, 0.19299481865284976, 0.2069951690821256, 0.2269955947136564, 0.24149068322981365, 0.2564756335282651, 0.2809430604982206, 0.2988795986622073, 0.31974687500000004, 0.3430451237263464, 0.36575716234652117, 0.39466414141414136, 0.4172824791418356, 0.43998196166854564, 0.4594064516129033, 0.4844300202839757, 0.5277345622119816, 0.5633589087809037, 0.5930389197776013, 0.6250849963045084, 0.6733559322033897, 0.6573552631578948, 0.6359583975346688, 0.6026132231404958, 0.5794659776055125, 0.527302717900656, 0.5095672068636797, 0.47670987038883345, 0.467567888999009, 0.44554473161033803]\n"
     ]
    }
   ],
   "source": [
    "threshold = []\n",
    "precision = []\n",
    "recall = []\n",
    "f1 = []\n",
    "for th in range(5000, 25000, 500):\n",
    "    print('threshold value=', th)\n",
    "    detector = BlobDetector(input_tif_path, n_components=3, threshold=th)\n",
    "    centroids = detector.get_blob_centroids()\n",
    "    util.write_list_to_csv(centroids, output_csv_path)\n",
    "\n",
    "    ground_truth_path = 'sample.csv'\n",
    "    ground_truth = util.get_list_from_csv(ground_truth_path)\n",
    "\n",
    "    metrics = BlobMetrics(ground_truth, centroids)\n",
    "    print('Precision: {}\\nRecall: {}'.format(metrics.precision(), metrics.recall()))\n",
    "    precision.append(metrics.precision())\n",
    "    recall.append(metrics.recall())\n",
    "    f1_calc = (2*metrics.precision()*metrics.recall())/(metrics.precision() + metrics.recall())\n",
    "    f1.append(f1_calc)\n",
    "    threshold.append(th)\n",
    "\n",
    "print('Threshold list:', threshold, \"\\nPrecision list:\", precision, \"\\nRecall list:\", recall, \"\\nF1 list:\", f1)"
   ]
  },
  {
   "cell_type": "code",
   "execution_count": 27,
   "metadata": {},
   "outputs": [
    {
     "data": {
      "image/png": "[encoded data removed]",
      "text/plain": [
       "<Figure size 432x288 with 1 Axes>"
      ]
     },
     "metadata": {},
     "output_type": "display_data"
    }
   ],
   "source": [
    "## Plots of F1 meaaures and threshold values:\n",
    "\n",
    "plt.plot(threshold, precision)\n",
    "plt.plot(threshold, recall)\n",
    "plt.plot(threshold, f1)\n",
    "plt.xlabel('Intensity threshold value used to classify the pixels')\n",
    "plt.ylabel('Value of the labelled metric')\n",
    "\n",
    "plt.legend(['Precision', 'Recall', 'F1'], loc='upper left')\n",
    "\n",
    "plt.show()"
   ]
  },
  {
   "cell_type": "code",
   "execution_count": null,
   "metadata": {
    "collapsed": true
   },
   "outputs": [],
   "source": []
  }
 ],
 "metadata": {
  "kernelspec": {
   "display_name": "bloby2",
   "language": "python",
   "name": "bloby2"
  },
  "language_info": {
   "codemirror_mode": {
    "name": "ipython",
    "version": 3
   },
   "file_extension": ".py",
   "mimetype": "text/x-python",
   "name": "python",
   "nbconvert_exporter": "python",
   "pygments_lexer": "ipython3",
   "version": "3.6.5"
  }
 },
 "nbformat": 4,
 "nbformat_minor": 2
}
